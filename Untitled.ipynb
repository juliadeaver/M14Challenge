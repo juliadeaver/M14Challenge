{
 "cells": [
  {
   "cell_type": "code",
   "execution_count": 2,
   "metadata": {},
   "outputs": [
    {
     "name": "stdout",
     "output_type": "stream",
     "text": [
      "total 32\n",
      "-rw-r--r--  1 juliadeaver  staff  1068 Jul 11 13:08 LICENSE\n",
      "-rw-r--r--  1 juliadeaver  staff    14 Jul 11 13:08 README.md\n",
      "-rw-r--r--  1 juliadeaver  staff  2552 Jul 11 13:18 Untitled.ipynb\n",
      "drwxr-xr-x  5 juliadeaver  staff   160 Jul 11 13:11 \u001b[34mfortune_p\u001b[m\u001b[m\n",
      "-rw-r--r--  1 juliadeaver  staff   228 Jul 11 13:15 setup.py\n",
      "\n",
      "./fortune_p:\n",
      "total 16\n",
      "-rw-r--r--  1 juliadeaver  staff   14 Jul 11 13:09 __init__.py\n",
      "-rw-r--r--  1 juliadeaver  staff  809 Jul 11 10:44 fortune.py\n"
     ]
    }
   ],
   "source": [
    "!ls -lR"
   ]
  },
  {
   "cell_type": "markdown",
   "metadata": {},
   "source": [
    "URL: https://github.com/juliadeaver/M14_HW"
   ]
  },
  {
   "cell_type": "code",
   "execution_count": 3,
   "metadata": {},
   "outputs": [
    {
     "name": "stdout",
     "output_type": "stream",
     "text": [
      "Obtaining file:///Users/juliadeaver/Desktop/MSDS/DS5100/M14Challenge\n",
      "\u001b[31m    ERROR: Command errored out with exit status 1:\n",
      "     command: /Users/juliadeaver/Desktop/anaconda3/bin/python -c 'import sys, setuptools, tokenize; sys.argv[0] = '\"'\"'/Users/juliadeaver/Desktop/MSDS/DS5100/M14Challenge/setup.py'\"'\"'; __file__='\"'\"'/Users/juliadeaver/Desktop/MSDS/DS5100/M14Challenge/setup.py'\"'\"';f=getattr(tokenize, '\"'\"'open'\"'\"', open)(__file__);code=f.read().replace('\"'\"'\\r\\n'\"'\"', '\"'\"'\\n'\"'\"');f.close();exec(compile(code, __file__, '\"'\"'exec'\"'\"'))' egg_info --egg-base /private/var/folders/s1/m9kp377d73j9_938dmyd68hm0000gn/T/pip-pip-egg-info-buf3a5yl\n",
      "         cwd: /Users/juliadeaver/Desktop/MSDS/DS5100/M14Challenge/\n",
      "    Complete output (5 lines):\n",
      "    Traceback (most recent call last):\n",
      "      File \"<string>\", line 1, in <module>\n",
      "      File \"/Users/juliadeaver/Desktop/MSDS/DS5100/M14Challenge/setup.py\", line 3, in <module>\n",
      "        setup(name = 'fortune_p',version = '1.0',url='https://github.com/juliadeaver/M14Challenge/',author='Julia Deaver',author_email = 'jrd7ny@virginia.edu',description = \"Fortunes\",packages=['fortune_p'])\n",
      "    TypeError: 'module' object is not callable\n",
      "    ----------------------------------------\u001b[0m\n",
      "\u001b[31mERROR: Command errored out with exit status 1: python setup.py egg_info Check the logs for full command output.\u001b[0m\n"
     ]
    }
   ],
   "source": [
    "!pip install -e ."
   ]
  },
  {
   "cell_type": "code",
   "execution_count": null,
   "metadata": {},
   "outputs": [],
   "source": []
  }
 ],
 "metadata": {
  "kernelspec": {
   "display_name": "Python 3",
   "language": "python",
   "name": "python3"
  },
  "language_info": {
   "codemirror_mode": {
    "name": "ipython",
    "version": 3
   },
   "file_extension": ".py",
   "mimetype": "text/x-python",
   "name": "python",
   "nbconvert_exporter": "python",
   "pygments_lexer": "ipython3",
   "version": "3.8.5"
  }
 },
 "nbformat": 4,
 "nbformat_minor": 4
}
